{
 "cells": [
  {
   "cell_type": "markdown",
   "metadata": {},
   "source": [
    "# Scientific Data Analysis\n",
    "Jasper Wink, 14616513 \\\n",
    "Dennis van der Werff, 14562189"
   ]
  },
  {
   "cell_type": "markdown",
   "metadata": {},
   "source": [
    "# Imports"
   ]
  },
  {
   "cell_type": "code",
   "execution_count": 9,
   "metadata": {},
   "outputs": [],
   "source": [
    "import numpy as np\n",
    "import pandas as pd\n",
    "import matplotlib.pyplot as plt\n",
    "from scipy.ndimage import gaussian_filter1d\n",
    "from statsmodels.tsa.stattools import adfuller"
   ]
  },
  {
   "cell_type": "code",
   "execution_count": 10,
   "metadata": {},
   "outputs": [],
   "source": [
    "# Read data\n",
    "cn = pd.read_csv(\"data/cryptonews.csv\")\n",
    "bp = pd.read_csv(\"data/btc.csv\")"
   ]
  },
  {
   "cell_type": "markdown",
   "metadata": {},
   "source": [
    "Group the data for each month. \\\n",
    "Determine the amount of articles for each month. \\\n",
    "Determine the mean opening bitcoin price for each month."
   ]
  },
  {
   "cell_type": "code",
   "execution_count": 11,
   "metadata": {},
   "outputs": [],
   "source": [
    "# Convert the date to the datetime format\n",
    "cn['date'] = pd.to_datetime(cn['date'], format='%Y-%m-%d %H:%M:%S')\n",
    "bp['date'] = pd.to_datetime(bp['Date'], format='%Y-%m-%d')\n",
    "\n",
    "# Only keep the year and months of the date\n",
    "cn['year_month'] = cn['date'].dt.to_period('M')\n",
    "bp['year_month'] = bp['date'].dt.to_period('M')\n",
    "\n",
    "# Group data by the months\n",
    "cn_monthly_count = cn.groupby('year_month').size().reset_index(name='Count')\n",
    "bp_monthly_mean = bp.groupby('year_month')['Open'].mean().reset_index(name='Open_mean')\n",
    "\n",
    "\n"
   ]
  },
  {
   "cell_type": "markdown",
   "metadata": {},
   "source": [
    "# Spearman correlation"
   ]
  },
  {
   "cell_type": "code",
   "execution_count": 12,
   "metadata": {},
   "outputs": [
    {
     "name": "stdout",
     "output_type": "stream",
     "text": [
      "Spearman Correlation: -0.243\n"
     ]
    }
   ],
   "source": [
    "# https://en.wikipedia.org/wiki/Spearman's_rank_correlation_coefficient\n",
    "def spearman_correlation(rank1, rank2):\n",
    "    n = len(rank1)\n",
    "\n",
    "    sum_d_squared = sum([(rank1[i] - rank2[i])**2 for i in range(n)])\n",
    "    correlation = 1 - ((6 * sum_d_squared) / (n * (n**2 - 1)))\n",
    "    return correlation\n",
    "\n",
    "\n",
    "# Calculate ranks\n",
    "cn_rank = list(cn_monthly_count['Count'].rank())\n",
    "bp_rank = list(bp_monthly_mean['Open_mean'].rank())\n",
    "\n",
    "correlation = spearman_correlation(cn_rank, bp_rank)\n",
    "print(f\"Spearman Correlation: {correlation:.3f}\")\n"
   ]
  },
  {
   "cell_type": "markdown",
   "metadata": {},
   "source": [
    "# Plot of the normalized data"
   ]
  },
  {
   "cell_type": "code",
   "execution_count": null,
   "metadata": {},
   "outputs": [],
   "source": [
    "# Normalize the data\n",
    "cn_count_list = list(cn_monthly_count['Count'])\n",
    "normalized_count = [count / max(cn_count_list) for count in cn_count_list]\n",
    "\n",
    "bp_mean_list = list(bp_monthly_mean['Open_mean'])\n",
    "normalized_mean = [mean / max(bp_mean_list) for mean in bp_mean_list]\n",
    "\n",
    "# Plot the data\n",
    "x = np.linspace(0, len(normalized_mean), len(normalized_mean))\n",
    "plt.plot(x, normalized_count, label='Normalized article count')\n",
    "plt.plot(x, normalized_mean, label='Normalized bitcoin price')\n",
    "plt.title('Normalized amount of articles versus bitcoin price')\n",
    "plt.xlabel('months')\n",
    "plt.ylabel('normalized value')\n",
    "plt.legend()\n",
    "plt.show()"
   ]
  },
  {
   "cell_type": "markdown",
   "metadata": {},
   "source": [
    "# Sentiment analysis"
   ]
  },
  {
   "cell_type": "code",
   "execution_count": null,
   "metadata": {},
   "outputs": [],
   "source": [
    "\n",
    "\n",
    "# Plot the data\n",
    "x = np.linspace(0, 1)\n",
    "\n",
    "plt.title('')\n",
    "plt.xlabel('')\n",
    "plt.ylabel('')\n",
    "plt.legend()\n",
    "plt.show()"
   ]
  },
  {
   "cell_type": "markdown",
   "metadata": {},
   "source": [
    "# Stationary test\n",
    "\n",
    "Using the Augmented Dickey-Fuller (ADF) test if the current datasets are satationary."
   ]
  },
  {
   "cell_type": "code",
   "execution_count": 16,
   "metadata": {},
   "outputs": [
    {
     "name": "stdout",
     "output_type": "stream",
     "text": [
      "p-value: 0.027565067669147153 (Count)\n",
      "p-value: 0.005897141266499994 (Open)\n"
     ]
    }
   ],
   "source": [
    "# Detrending using gaussian_filter\n",
    "detrend_count = cn_monthly_count['Count'] - gaussian_filter1d(cn_monthly_count['Count'], 5)\n",
    "ad_fuller_result = adfuller(detrend_count)\n",
    "print(f'p-value: {ad_fuller_result[1]} (Count)')\n",
    "\n",
    "detrend_mean = bp_monthly_mean['Open_mean'] - gaussian_filter1d(bp_monthly_mean['Open_mean'], 5)\n",
    "ad_fuller_result = adfuller(detrend_mean)\n",
    "print(f'p-value: {ad_fuller_result[1]} (Open)')\n"
   ]
  },
  {
   "cell_type": "code",
   "execution_count": null,
   "metadata": {},
   "outputs": [],
   "source": []
  }
 ],
 "metadata": {
  "kernelspec": {
   "display_name": ".venv",
   "language": "python",
   "name": "python3"
  },
  "language_info": {
   "codemirror_mode": {
    "name": "ipython",
    "version": 3
   },
   "file_extension": ".py",
   "mimetype": "text/x-python",
   "name": "python",
   "nbconvert_exporter": "python",
   "pygments_lexer": "ipython3",
   "version": "3.11.11"
  }
 },
 "nbformat": 4,
 "nbformat_minor": 2
}
